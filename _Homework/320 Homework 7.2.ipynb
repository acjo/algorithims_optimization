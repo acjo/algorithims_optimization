{
 "cells": [
  {
   "cell_type": "markdown",
   "metadata": {},
   "source": [
    "# Problem 7.8\n",
    "\n",
    "(i) In order to find the inverse we need to solve for $x$. Let $F(x) = y$\n",
    "\\begin{equation}\n",
    "y = 1-e^{-\\lambda x} \\implies 1-y = e^{-\\lambda x}\\implies\n",
    "\\end{equation}\n",
    "\\begin{equation}\n",
    "\\ln(1 - y) = -\\lambda x \\implies -\\frac{\\ln(1 - y)}{\\lambda} = x\n",
    "\\end{equation}\n",
    "Which gives the result that\n",
    "\\begin{equation}\n",
    "F^{-1}(y) =-\\frac{\\ln(1 - y)}{\\lambda}\n",
    "\\end{equation}\n",
    "(ii) Assume that $Y\\sim \\mbox{uniform}(0,1)$ Consider the function $g:[0,1]\\to [0,1]$ given by $g(t) = 1-t$. Note that $g$ is a bijection and strictly decreasing and the invers of $g$ is $g$ itself. To show that $g(Y) = 1-Y\\sim \\mbox{uniform}(0,1)$ we must show that the pdf of $1-Y$ is\n",
    "\\begin{equation}\n",
    "f_{1-Y}(t) = \n",
    "\\begin{cases}\n",
    "1 & t\\in[0,1]\\\\\n",
    "0 & t\\not\\in[0,1]\n",
    "\\end{cases}\n",
    "\\end{equation}\n",
    "To find the pdf we first find the cdf then differentiate. Therefore for any $a\\in (0,1)$ we have\n",
    "\\begin{equation}\n",
    "F(a) = P(1-Y\\leq a) = P(g(Y) \\leq a) = P(g^{-1}(g(Y)) \\geq g^{-1} (a)) = P(Y\\geq 1-a) =\\int_{1-a}^1 1 dt = - \\int_{1}^{1-a} 1 dt\n",
    "\\end{equation}\n",
    "Therefore\n",
    "\\begin{equation}\n",
    "F'(a) = \\frac{d}{da} - \\int_{1}^{1-a} 1 dt = -\\frac{d}{da} \\int_{1}^{1-a} 1 dt = 1\n",
    "\\end{equation}\n",
    "$F'$ is the pdf of $1-Y$ so pdf of must be 1 which shows that $1-Y \\sim \\mbox{uniform} (0,1)$.\n",
    "\n",
    "(iii) (below)"
   ]
  },
  {
   "cell_type": "code",
   "execution_count": 7,
   "metadata": {},
   "outputs": [
    {
     "ename": "NameError",
     "evalue": "name 'dom' is not defined",
     "output_type": "error",
     "traceback": [
      "\u001b[0;31m---------------------------------------------------------------------------\u001b[0m",
      "\u001b[0;31mNameError\u001b[0m                                 Traceback (most recent call last)",
      "\u001b[0;32m<ipython-input-7-806be1776dc7>\u001b[0m in \u001b[0;36m<module>\u001b[0;34m\u001b[0m\n\u001b[1;32m     17\u001b[0m \u001b[0;34m\u001b[0m\u001b[0m\n\u001b[1;32m     18\u001b[0m \u001b[0maxs\u001b[0m\u001b[0;34m.\u001b[0m\u001b[0mhist\u001b[0m\u001b[0;34m(\u001b[0m\u001b[0mpoints\u001b[0m\u001b[0;34m,\u001b[0m \u001b[0mdensity\u001b[0m\u001b[0;34m=\u001b[0m\u001b[0;32mTrue\u001b[0m\u001b[0;34m)\u001b[0m\u001b[0;34m\u001b[0m\u001b[0;34m\u001b[0m\u001b[0m\n\u001b[0;32m---> 19\u001b[0;31m \u001b[0maxs\u001b[0m\u001b[0;34m.\u001b[0m\u001b[0mplot\u001b[0m\u001b[0;34m(\u001b[0m\u001b[0mdom\u001b[0m\u001b[0;34m,\u001b[0m \u001b[0mfunc\u001b[0m\u001b[0;34m(\u001b[0m\u001b[0mdomain\u001b[0m\u001b[0;34m)\u001b[0m\u001b[0;34m)\u001b[0m\u001b[0;34m\u001b[0m\u001b[0;34m\u001b[0m\u001b[0m\n\u001b[0m\u001b[1;32m     20\u001b[0m \u001b[0;34m\u001b[0m\u001b[0m\n\u001b[1;32m     21\u001b[0m \u001b[0mplt\u001b[0m\u001b[0;34m.\u001b[0m\u001b[0mshow\u001b[0m\u001b[0;34m(\u001b[0m\u001b[0;34m)\u001b[0m\u001b[0;34m\u001b[0m\u001b[0;34m\u001b[0m\u001b[0m\n",
      "\u001b[0;31mNameError\u001b[0m: name 'dom' is not defined"
     ]
    },
    {
     "data": {
      "image/png": "[encoded data removed]",
      "text/plain": [
       "<Figure size 432x288 with 1 Axes>"
      ]
     },
     "metadata": {
      "needs_background": "light"
     },
     "output_type": "display_data"
    }
   ],
   "source": [
    "import numpy as np\n",
    "from matplotlib import pyplot as plt\n",
    "from scipy.stats import gamma\n",
    "\n",
    "def prob8(lamb, n):\n",
    "    \n",
    "    sample = -np.log(np.random.uniform(0, 1, n)) / lamb\n",
    "    \n",
    "    return lambda x: lamb * np.exp(-lamb * x), sample\n",
    "    \n",
    "\n",
    "domain = np.linspace(0, 6, 500)\n",
    "\n",
    "func, points = prob8(2, 10**5)\n",
    "\n",
    "fig, axs = plt.subplots(1, 1)\n",
    "\n",
    "axs.hist(points, density=True)\n",
    "axs.plot(dom, func(domain))\n",
    "\n",
    "plt.show()\n",
    "\n",
    "\n"
   ]
  },
  {
   "cell_type": "markdown",
   "metadata": {},
   "source": [
    "# Problem 7.9\n",
    "\n",
    "(i) \n",
    "\\begin{equation}\n",
    "y = \\frac{1}{1+e^{-x}} \\implies \\frac{1}{y} = 1 + e^{-x} \\implies \\frac{1}{y} - 1 = e^{-x} \\implies\n",
    "\\end{equation}\n",
    "Which gives the inverse as\n",
    "\\begin{equation}\n",
    "F^{-1}(y) = -(ln\\frac{1}{y} - 1)\n",
    "\\end{equation}\n",
    "(ii) and (iii) below"
   ]
  },
  {
   "cell_type": "code",
   "execution_count": null,
   "metadata": {},
   "outputs": [],
   "source": [
    "sample = np.random.uniform(0,1, n)\n",
    "\n",
    "logistic =  -1 *np.log((1/sample)-1)\n",
    "\n",
    "plt.hist(logistic, density=True)\n",
    "plt.show()\n",
    "\n",
    "mean = (1/n) * sum(logistic)\n",
    "variance = (1/(n-1)) * sum((logistic - mean)**2)\n",
    "\n",
    "print('mean:', mean)\n",
    "print('variance:', variance)\n"
   ]
  },
  {
   "cell_type": "markdown",
   "metadata": {},
   "source": [
    "# Problem 7.11\n",
    "\n",
    "(i) In order to minimize $m$ we need to maximize the function $e^{-x^2-x^3}/e^{-x}$ on the interval $[0,\\infty)$. So taking the derivative gives us\n",
    "\\begin{equation}\n",
    "e^{-x^2-x^3+x}(-2x-3x^2+1)\n",
    "\\end{equation}\n",
    "setting it equal to zero we get that the function is maximized at $x=1/3$. Pluggin that back into our original equation we see that the minimum of $m$ is $m = e^{5/27}$.\n",
    "\n",
    "\n",
    "(ii)\n",
    "\\begin{equation}\n",
    "f_P(x) \\leq M f_Q(x) \\implies \\frac{1}{Z}e^{-x^2-x^3} \\leq M (\\frac{e^{-x}}{\\Gamma(1,1)})\n",
    "\\end{equation}\n",
    "\\begin{equation}\n",
    "\\implies M = \\frac{m}{Z}\n",
    "\\end{equation}\n",
    "We can compute the desired quantint without computing Z\n",
    "\\begin{equation}\n",
    "\\frac{f_P(z)}{Mf_Q(x)} = \\frac{\\frac{1}{Z}e^{-x^2-x^3}}{\\frac{m}{Z}f_Q(x)} = \\frac{e^{-x^2-x^3}}{e^{5/27}f_Q(x)}\n",
    "\\end{equation}\n",
    "(iii) and (iv) below"
   ]
  },
  {
   "cell_type": "code",
   "execution_count": 11,
   "metadata": {},
   "outputs": [
    {
     "data": {
      "image/png": "[encoded data removed]",
      "text/plain": [
       "<Figure size 432x288 with 1 Axes>"
      ]
     },
     "metadata": {
      "needs_background": "light"
     },
     "output_type": "display_data"
    }
   ],
   "source": [
    "\n",
    "def rej_sampler(n):\n",
    "    \n",
    "    _, z = prob8(1, n)\n",
    "    u = np.random.uniform(0, 1, n)\n",
    "    \n",
    "    accepted = [z[i] for i in range(n) if u[i]<= np.exp(-(z[i]**2) - (z[i]**3))/ (np.exp(5/27.) * np.exp(-z[i]))]\n",
    "    \n",
    "    return accepted\n",
    "\n",
    "\n",
    "Z = 0.663711\n",
    "x = np.linspace(0, 2, num = 500, endpoint=False)\n",
    "gamma = ((1 / Z) * np.exp(-x**2 - x**3))\n",
    "plt.hist(rej_sampler(10**5), density = True)\n",
    "plt.plot(x, gamma, \"-\", lw =2)\n",
    "plt.show()\n",
    "    \n",
    "\n",
    "    \n",
    "\n",
    "\n",
    "    \n",
    "    "
   ]
  },
  {
   "cell_type": "code",
   "execution_count": null,
   "metadata": {},
   "outputs": [],
   "source": []
  },
  {
   "cell_type": "code",
   "execution_count": null,
   "metadata": {},
   "outputs": [],
   "source": []
  }
 ],
 "metadata": {
  "kernelspec": {
   "display_name": "Python 3",
   "language": "python",
   "name": "python3"
  },
  "language_info": {
   "codemirror_mode": {
    "name": "ipython",
    "version": 3
   },
   "file_extension": ".py",
   "mimetype": "text/x-python",
   "name": "python",
   "nbconvert_exporter": "python",
   "pygments_lexer": "ipython3",
   "version": "3.8.3"
  }
 },
 "nbformat": 4,
 "nbformat_minor": 4
}

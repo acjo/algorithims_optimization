{
 "cells": [
  {
   "cell_type": "markdown",
   "metadata": {},
   "source": [
    "# Problem 7.8\n",
    "\n",
    "(i) In order to find the inverse we need to solve for $x$. Let $F(x) = y$\n",
    "\\begin{equation}\n",
    "y = 1-e^{-\\lambda x} \\implies 1-y = e^{-\\lambda x}\\implies\n",
    "\\end{equation}\n",
    "\\begin{equation}\n",
    "\\ln(1 - y) = -\\lambda x \\implies -\\frac{\\ln(1 - y)}{\\lambda} = x\n",
    "\\end{equation}\n",
    "Which gives the result that\n",
    "\\begin{equation}\n",
    "F^{-1}(y) =-\\frac{\\ln(1 - y)}{\\lambda}\n",
    "\\end{equation}\n",
    "(ii) Assume that $Y\\sim \\mbox{unifrom}(0,1)$ then we know it's pdf is\n",
    "\n",
    "\\begin{equation}\n",
    "f_Y(y)\n",
    "\\begin{cases}\n",
    "1 & y\\in [0,1]\\\\\n",
    "0 & y\\not\\in [0,1]\n",
    "\\end{cases}\n",
    "\\end{equation}\n",
    "\n",
    "(iii) (below)"
   ]
  },
  {
   "cell_type": "code",
   "execution_count": 15,
   "metadata": {},
   "outputs": [
    {
     "data": {
      "image/png": "[encoded data removed]",
      "text/plain": [
       "<Figure size 432x288 with 1 Axes>"
      ]
     },
     "metadata": {
      "needs_background": "light"
     },
     "output_type": "display_data"
    }
   ],
   "source": [
    "import numpy as np\n",
    "from matplotlib import pyplot as plt\n",
    "\n",
    "\n",
    "n = 10**5\n",
    "pdf = lambda x: 2 * np.exp(-2 * x)\n",
    "dom = np.linspace(0, 6, 500)\n",
    "\n",
    "sample_u = -np.log(np.random.uniform(0, 1, n)) /2\n",
    "fig, axs = plt.subplots(1, 1)\n",
    "\n",
    "axs.hist(sample_u, density=True)\n",
    "axs.plot(dom, pdf(dom))\n",
    "\n",
    "plt.show()\n",
    "\n",
    "\n"
   ]
  },
  {
   "cell_type": "markdown",
   "metadata": {},
   "source": [
    "# Problem 7.9\n",
    "\n",
    "(i) \n",
    "\\begin{equation}\n",
    "y = \\frac{1}{1+e^{-x}} \\implies \\frac{1}{y} = 1 + e^{-x} \\implies \\frac{1}{y} - 1 = e^{-x} \\implies\n",
    "\\end{equation}\n",
    "Which gives the inverse as\n",
    "\\begin{equation}\n",
    "F^{-1}(y) = -(ln\\frac{1}{y} - 1)\n",
    "\\end{equation}\n",
    "(ii) and (iii) below"
   ]
  },
  {
   "cell_type": "code",
   "execution_count": 21,
   "metadata": {},
   "outputs": [
    {
     "data": {
      "image/png": "[encoded data removed]",
      "text/plain": [
       "<Figure size 432x288 with 1 Axes>"
      ]
     },
     "metadata": {
      "needs_background": "light"
     },
     "output_type": "display_data"
    },
    {
     "name": "stdout",
     "output_type": "stream",
     "text": [
      "mean: 0.0008785286627205207\n",
      "variance: 3.2840585413914076\n"
     ]
    }
   ],
   "source": [
    "sample = np.random.uniform(0,1, n)\n",
    "\n",
    "logistic =  -1 *np.log((1/sample)-1)\n",
    "\n",
    "plt.hist(logistic, density=True)\n",
    "plt.show()\n",
    "\n",
    "mean = (1/n) * sum(logistic)\n",
    "variance = (1/(n-1)) * sum((logistic - mean)**2)\n",
    "\n",
    "print('mean:', mean)\n",
    "print('variance:', variance)\n"
   ]
  },
  {
   "cell_type": "markdown",
   "metadata": {},
   "source": [
    "# Problem 7.10\n",
    "the d dimensional unit ball is the points where $||\\vec{x}||_2 \\leq 1$ where $\\vec{x}\\in \\mathbb{R}^n$"
   ]
  },
  {
   "cell_type": "code",
   "execution_count": null,
   "metadata": {},
   "outputs": [],
   "source": []
  }
 ],
 "metadata": {
  "kernelspec": {
   "display_name": "Python 3",
   "language": "python",
   "name": "python3"
  },
  "language_info": {
   "codemirror_mode": {
    "name": "ipython",
    "version": 3
   },
   "file_extension": ".py",
   "mimetype": "text/x-python",
   "name": "python",
   "nbconvert_exporter": "python",
   "pygments_lexer": "ipython3",
   "version": "3.8.3"
  }
 },
 "nbformat": 4,
 "nbformat_minor": 4
}

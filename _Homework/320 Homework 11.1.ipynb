{
 "cells": [
  {
   "cell_type": "markdown",
   "metadata": {},
   "source": [
    "# 11.1\n",
    "(i) We convert 7 to IEEE 754. First get binary representation of 7.\n",
    "\n",
    "\n",
    "$ 7 = a_2\\cdot 2^2 + a_1 \\cdot 2 + a_0$\n",
    "\n",
    "\n",
    "$a_0 \\equiv 7 \\equiv 1 \\mod 2$ $\\implies a_0 =1$\n",
    "\n",
    "\n",
    "$a_1 \\equiv \\frac{7-1}{2} = 3 \\equiv 1 \\mod 2$ $\\implies a_1 = 1$\n",
    "\n",
    "\n",
    "$a_0 \\equiv \\frac{3-1}{2} = 1 \\equiv 1 \\mod 2$ $\\implies a_0 =1$\n",
    "\n",
    "7 (in binary) = $1.11 \\cdot 2^2$ so $e - 1023 =2 \\implies e =1025 = 2^{10} + 0 + \\dots + 0 + 2^0$. \n",
    "\n",
    "The sign bit is 0 because 7 is positive. So the IEEE 754 floating point representation is\n",
    "\\begin{equation}\n",
    "7 = \\color{blue}{\\text{0}}\\color{green}{\\text{10000000001}}\\color{orange}{\\text{1100000000000000000000000000000000000000000000000000}}\n",
    "\\end{equation}\n",
    "\n",
    "(ii) We now convert $77/64$ to IEEE 754 floating point. Frist the decmianl representation of $77/64$ is\n",
    "\n",
    "$\\frac{77}{64} = 1.203125$\n",
    "\n",
    "Again it is positive so the first sign bit will be $0$. Then notice that $1$ in binary is just $1 \\cdot 2^0$. Then we hac to conver the decimal. \n",
    "\n",
    "$2 \\cdot 0.203125 = 0.40625 +0$\n",
    "\n",
    "$2 \\cdot 0.40625 = 0.8125 + 0$\n",
    "\n",
    "$2\\cdot 0.8125 = 0.625 + 1$\n",
    "\n",
    "$2 \\cdot 0.625 = 0.25 + 1$\n",
    "\n",
    "$2 \\cdot 0.25 = 0.5 +0 $\n",
    "\n",
    "$2\\cdot 0.5 = 0 + 1$\n",
    "\n",
    "So the binary representation is $1.001101 \\cdot 2^0$. since we want the exponent to be zero then $e - 1023 = 0 \\implies e = 1023$. Which has binary representation $01111111111$. Putting this all together \n",
    "\\begin{equation}\n",
    "\\frac{77}{64} = \\color{blue}{\\text{0}}\\color{green}{\\text{01111111111}}\\color{orange}{\\text{0011010000000000000000000000000000000000000000000000}}\n",
    "\\end{equation}\n",
    "\n",
    "\n",
    "(iii) We now convert 22/7 to IEEE 754 representation. Notice that $22/ 7$ is irrational so we approximate it in decimal form as \n",
    "\n",
    "$\\frac{22}{7}\\approx 3.14285714286$\n",
    "\n",
    "So it's sign bit is $0$. Then converting to decimal $3 = 1\\cdot 2^1 + 1\\cdot 2^0$ Now looking at the decimal part. \n",
    "\n",
    "$2 \\cdot 0.14285714286 = 0.28571429 + 0 $\n",
    "\n",
    "$2\\cdot 0.28571429 = 0.57142857 + 0$\n",
    "\n",
    "$2\\cdot 0.57142857 = 0.14285714 + 1$\n",
    "\n",
    "$2\\cdot  0.14285714 =  0.28571429  + 0$\n",
    "\n",
    "So we can see this is going to repeat forever. So The decimal represenation is\n",
    "\n",
    "$1.1001001001001001001001001001001001001010101101101010 \\cdot 2^1$\n",
    "\n",
    "With $e -1023 = 1 \\implies e = 1024$. Which has the representation of $10000000000$. Which gives the IEEE 754 as\n",
    "\n",
    "\\begin{equation}\n",
    "\\frac{22}{7} = \\color{blue}{\\text{0}}\\color{green}{\\text{10000000000}}\\color{orange}{\\text{1001001001001001001001001001001001001010101101101010}}\n",
    "\\end{equation}"
   ]
  },
  {
   "cell_type": "markdown",
   "metadata": {},
   "source": [
    "# 11.2\n",
    "\n",
    "$n= 2^24 + 1$\n"
   ]
  },
  {
   "cell_type": "code",
   "execution_count": 13,
   "metadata": {},
   "outputs": [
    {
     "name": "stdout",
     "output_type": "stream",
     "text": [
      "16777217.0\n",
      "9007199254740992.0\n"
     ]
    }
   ],
   "source": [
    "print(float(2**24 + 1))\n",
    "print(float(2**53+1))"
   ]
  }
 ],
 "metadata": {
  "kernelspec": {
   "display_name": "Python 3",
   "language": "python",
   "name": "python3"
  },
  "language_info": {
   "codemirror_mode": {
    "name": "ipython",
    "version": 3
   },
   "file_extension": ".py",
   "mimetype": "text/x-python",
   "name": "python",
   "nbconvert_exporter": "python",
   "pygments_lexer": "ipython3",
   "version": "3.8.3"
  }
 },
 "nbformat": 4,
 "nbformat_minor": 4
}

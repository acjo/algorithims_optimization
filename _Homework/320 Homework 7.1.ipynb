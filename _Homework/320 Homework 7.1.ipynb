{
 "cells": [
  {
   "cell_type": "code",
   "execution_count": 165,
   "metadata": {},
   "outputs": [],
   "source": [
    "import numpy as np\n",
    "from matplotlib import pyplot as plt\n",
    "import scipy as sp"
   ]
  },
  {
   "cell_type": "code",
   "execution_count": 166,
   "metadata": {},
   "outputs": [],
   "source": [
    "def prob1A(k):\n",
    "    #THS USES MONTE CARLO METHODS:\n",
    "    \n",
    "    x = [0.5, 1, 1.5]\n",
    "    \n",
    "    n = 10**k\n",
    "    \n",
    "    #get draws from normal distribution\n",
    "    Z = np.random.normal(0, 1, n)\n",
    "    #compute draws from X\n",
    "    X = Z**2\n",
    "      \n",
    "    #(i)\n",
    "    #plot the pdf for X\n",
    "    plt.hist(X, bins = np.linspace(0, 1, 10), density=True)\n",
    "    \n",
    "    \n",
    "    #(ii)\n",
    "    #we want to figure out what percentage of X is less than x[i]\n",
    "    #list containg counts\n",
    "    cdf = []\n",
    "    for i in range(3):\n",
    "        less_than = 0\n",
    "        for j in range(n):\n",
    "            if X[j] <= x[i]:\n",
    "                less_than += 1\n",
    "        cdf.append(less_than / n)\n",
    "    \n",
    "    \n",
    "    #(iii) & (iv)\n",
    "    #to compute the expected value and variance we will use \n",
    "    #the unbiased estimators for the mean and variance\n",
    "    mean = (1/n) * sum(X) \n",
    "    variance = (1/(n - 1)) * sum((X - mean) ** 2)\n",
    "\n",
    "\n",
    "    return cdf, mean, variance\n",
    "\n",
    "def Prob1B(k):\n",
    "    #THIS USES BUILT IN PYTHON FUNCTIONS\n",
    "    x = [0.5, 0.1, 1.5]\n",
    "    n = 10**k\n",
    "    dom = np.linspace(0, 1, 100)\n",
    "    X = np.random.chisquare(1, n)\n",
    "    plt.hist(X, bins = np.linspace(0, 1, 10), density=True)\n",
    "    \n",
    "    cdf = [sp.stats.chi2(x[i], df=1) for i in range(3)]\n",
    "    var(df, loc=0, scale=1)\n",
    "    std(df, loc=0, scale=1)\n",
    "    \n",
    "    \n",
    "    return cdf, mean, variance\n",
    "    \n",
    "    \n",
    "    \n",
    "    \n",
    "    \n",
    "\n",
    "def prob3():\n",
    "    \n",
    "    #METHOD 1:\n",
    "    #get samples of uniform distribution\n",
    "    n1 = 10**5\n",
    "    \n",
    "    X = np.random.uniform(0, 2, n1)\n",
    "    #compose with e^cos(x^2)\n",
    "    H_X = np.exp(np.cos(X**2))\n",
    "    #compute expected value and variance with unbiased\n",
    "    #estimators\n",
    "    \n",
    "    mean_1 = (1/n1) * sum(H_X)\n",
    "    #np.exp(np.cos(X**2)))\n",
    "    \n",
    "    variance_1 = (1/(n1 -1)) * sum(((H_X - mean_1)**2))\n",
    "    #compute the standard error\n",
    "    std_error_1 = np.sqrt(variance_1 / n1)\n",
    "    #compute the area approximation\n",
    "    area_1 =  2 * mean_1\n",
    "    \n",
    "    \n",
    "    #METHOD 2:\n",
    "    #in 0, 2 the max value of cos(x^2) is 1. so the max of e^(cos(x^2)) is e. \n",
    "    n2 = 5 * 10**4\n",
    "    #get the x, y samples\n",
    "    x = np.random.uniform(0, 2, n2)\n",
    "    y = np.random.uniform(0, np.exp(1), n2)\n",
    "    #compute the sample area\n",
    "    square_area = 2 * np.exp(1)\n",
    "    \n",
    "    #get the number of successes\n",
    "    interior_count = 0\n",
    "    for i in range(n2):\n",
    "        if 0 <= y[i] and y[i] <= np.exp(np.cos(x[i]**2)):\n",
    "            interior_count += 1\n",
    "            x[i] = 1\n",
    "        else:\n",
    "            x[i] = 0\n",
    "            \n",
    "    mean_2 = interior_count / n2\n",
    "    area_2 = square_area * mean_2\n",
    "    \n",
    "    variance_2 = (1/(n2 - 1)) * sum((x - mean_2)**2)\n",
    "    std_error_2 = np.sqrt(variance_2 / n2)\n",
    "    \n",
    "    \n",
    "    return area_1, std_error_1, area_2, std_error_2\n",
    "\n",
    "def prob4(num):\n",
    "    '''\n",
    "    We want the probability that a sample from beta(2,5) will be less than a sample from beta(20, 55)\n",
    "    In other words P()\n",
    "    \n",
    "    '''\n",
    "    x = np.random.beta(2, 5, num)\n",
    "    y = np.random.beta(20, 55, num)\n",
    "    #prob sampleBeta(20,55) - sample(beta(2,5) > 0)\n",
    "    #prob(y[i] - x[i] > 0)\n",
    "    \n",
    "    z = x - y\n",
    "    \n",
    "    mean_x = (1/num) * sum(x)\n",
    "    \n",
    "    mean_y = (1/num) * sum(y)\n",
    "    \n",
    "\n",
    "    \n",
    "    mean_z = (1/num) * sum(z)\n",
    "    \n",
    "    wins = np.array([1 if y[i] - x[i] > 0 else 0 for i in range(num)])\n",
    "    mean = (1/num) * sum(wins)\n",
    "    variance = (1/(num-1)) * sum((wins - mean)**2)\n",
    "    std_error = np.sqrt(variance/ num)\n",
    "    \n",
    "\n",
    "#HELPER FUNCTION FOR PROBLEM 5 \n",
    "def game():\n",
    "    die = [1,2,3,4]\n",
    "    money = 0\n",
    "    for i in range(10):\n",
    "        roll = np.random.choice(die)\n",
    "        if roll == 1 or roll ==2:\n",
    "            money +=1\n",
    "        elif roll == 3:\n",
    "            money += 2\n",
    "        else:\n",
    "            money -= 1\n",
    "    return money\n",
    "    \n",
    "def prob5(n):\n",
    "    negative = 0\n",
    "    rolls = np.array([game() for _ in range(n)])\n",
    "    for roll in rolls:\n",
    "        if roll < 0:\n",
    "            negative += 1\n",
    "    p = negative / n\n",
    "    variance = (1/(n-1)) * sum((rolls - p)**2)\n",
    "    std_err = np.sqrt(variance / n)\n",
    "    return p, std_err\n",
    "    "
   ]
  },
  {
   "cell_type": "markdown",
   "metadata": {},
   "source": [
    "# Problem 1A"
   ]
  },
  {
   "cell_type": "code",
   "execution_count": 167,
   "metadata": {},
   "outputs": [
    {
     "name": "stdout",
     "output_type": "stream",
     "text": [
      "K = 2\n",
      "CDF values:\n",
      "0.53\n",
      "0.66\n",
      "0.78\n",
      "E[X]: 0.8734293774740529\n",
      "Var(X): 1.082501349285814\n",
      "\n",
      "K = 4\n",
      "CDF values:\n",
      "0.5158\n",
      "0.6752\n",
      "0.7751\n",
      "E[X]: 1.0102612052672828\n",
      "Var(X): 2.0098664296225817\n",
      "\n",
      "K = 2\n",
      "CDF values:\n",
      "0.520686\n",
      "0.683213\n",
      "0.779694\n",
      "E[X]: 0.9991190534217848\n",
      "Var(X): 1.9942215972275976\n"
     ]
    },
    {
     "data": {
      "image/png": "[encoded data removed]",
      "text/plain": [
       "<Figure size 432x288 with 3 Axes>"
      ]
     },
     "metadata": {
      "needs_background": "light"
     },
     "output_type": "display_data"
    }
   ],
   "source": [
    "print('K = 2')\n",
    "ax1 = plt.subplot(131)\n",
    "p, m, v = prob1A(2)\n",
    "ax1.set_title('K =2')\n",
    "print('CDF values:')\n",
    "for val in p:\n",
    "    print(val)\n",
    "print('E[X]: ' + str(m))\n",
    "print('Var(X): ' + str(v))\n",
    "\n",
    "print()\n",
    "\n",
    "print('K = 4')\n",
    "ax2 = plt.subplot(132)\n",
    "p, m, v = prob1A(4)\n",
    "ax2.set_title('K =4')\n",
    "print('CDF values:')\n",
    "for val in p:\n",
    "    print(val)\n",
    "print('E[X]: ' + str(m))\n",
    "print('Var(X): ' + str(v))\n",
    "\n",
    "print()\n",
    "\n",
    "print('K = 2')\n",
    "ax3 = plt.subplot(133)\n",
    "p, m, v = prob1A(6)\n",
    "ax3.set_title('K =6')\n",
    "print('CDF values:')\n",
    "for val in p:\n",
    "    print(val)\n",
    "print('E[X]: ' + str(m))\n",
    "print('Var(X): ' + str(v))\n",
    " \n",
    "plt.show()"
   ]
  },
  {
   "cell_type": "markdown",
   "metadata": {},
   "source": [
    "# Problem1B"
   ]
  },
  {
   "cell_type": "code",
   "execution_count": null,
   "metadata": {},
   "outputs": [],
   "source": []
  },
  {
   "cell_type": "markdown",
   "metadata": {},
   "source": [
    "# Problem 3\n"
   ]
  },
  {
   "cell_type": "code",
   "execution_count": 168,
   "metadata": {},
   "outputs": [
    {
     "name": "stdout",
     "output_type": "stream",
     "text": [
      "Method 1:\n",
      "area estimate 1: 3.2098715176839074\n",
      "standard error 1: 0.0029903619795526425\n",
      "\n",
      "Method 2:\n",
      "area estimate 2: 3.205615394665183\n",
      "standard error 2: 0.002199861403770936\n"
     ]
    }
   ],
   "source": [
    "area_1, std_err_1, area_2, std_err_2 = prob3()\n",
    "\n",
    "print('Method 1:')\n",
    "print('area estimate 1:', area_1)\n",
    "print('standard error 1:', std_err_1)\n",
    "print()\n",
    "print('Method 2:')\n",
    "print('area estimate 2:', area_2)\n",
    "print('standard error 2:', std_err_2)\n"
   ]
  },
  {
   "cell_type": "markdown",
   "metadata": {},
   "source": []
  },
  {
   "cell_type": "markdown",
   "metadata": {},
   "source": [
    "# Problem 4"
   ]
  },
  {
   "cell_type": "code",
   "execution_count": null,
   "metadata": {},
   "outputs": [],
   "source": []
  },
  {
   "cell_type": "markdown",
   "metadata": {},
   "source": [
    "# Problem 5\n",
    "In this problem we want to make sure that the standard error is low enough so that the probability isn't varrying a ton between subsequent plays. "
   ]
  },
  {
   "cell_type": "code",
   "execution_count": 169,
   "metadata": {},
   "outputs": [
    {
     "name": "stdout",
     "output_type": "stream",
     "text": [
      "Probability: 0.01323\n",
      "Standard Error: 0.026022176103694904\n"
     ]
    }
   ],
   "source": [
    "probability, std_error = prob5(10**5)\n",
    "\n",
    "print('Probability:', probability )\n",
    "print('Standard Error:', std_error )"
   ]
  }
 ],
 "metadata": {
  "kernelspec": {
   "display_name": "Python 3",
   "language": "python",
   "name": "python3"
  },
  "language_info": {
   "codemirror_mode": {
    "name": "ipython",
    "version": 3
   },
   "file_extension": ".py",
   "mimetype": "text/x-python",
   "name": "python",
   "nbconvert_exporter": "python",
   "pygments_lexer": "ipython3",
   "version": "3.8.3"
  }
 },
 "nbformat": 4,
 "nbformat_minor": 4
}
